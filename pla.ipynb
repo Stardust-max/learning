{
 "cells": [
  {
   "cell_type": "code",
   "execution_count": 148,
   "metadata": {},
   "outputs": [],
   "source": [
    "import numpy as np\n",
    "import pandas as pd\n",
    "import random\n",
    "\n",
    "data = pd.read_csv('./hw1_15_train.dat', header = None,encoding='utf-8', delimiter='\\t')\n",
    "new = data[0].str.split(' ',5,True) # True 表示返回一个DataFrame，False表示返回Series\n",
    "new[4] = data[1]\n",
    "new = new.astype('float')\n",
    "raw_data = new.values"
   ]
  },
  {
   "cell_type": "code",
   "execution_count": 149,
   "metadata": {},
   "outputs": [
    {
     "data": {
      "text/plain": [
       "array([[ 0.97681 ,  0.10723 ,  0.64385 ,  0.29556 ,  1.      ],\n",
       "       [ 0.67194 ,  0.2418  ,  0.83075 ,  0.42741 ,  1.      ],\n",
       "       [ 0.20619 ,  0.23321 ,  0.81004 ,  0.98691 ,  1.      ],\n",
       "       ...,\n",
       "       [ 0.93895 ,  0.93941 ,  0.72496 ,  0.95655 ,  1.      ],\n",
       "       [ 0.046136,  0.94413 ,  0.038311,  0.26812 , -1.      ],\n",
       "       [ 0.072491,  0.2242  ,  0.62592 ,  0.67238 ,  1.      ]])"
      ]
     },
     "execution_count": 149,
     "metadata": {},
     "output_type": "execute_result"
    }
   ],
   "source": [
    "raw_data"
   ]
  },
  {
   "cell_type": "code",
   "execution_count": 150,
   "metadata": {},
   "outputs": [],
   "source": [
    "def sign(x):\n",
    "    if x > 0:\n",
    "        return 1\n",
    "    else:\n",
    "        return -1"
   ]
  },
  {
   "cell_type": "code",
   "execution_count": 151,
   "metadata": {},
   "outputs": [],
   "source": [
    "def pla(data, step_size = 1):\n",
    "    w = np.zeros((5), dtype = float)\n",
    "    isFinished = 0 # 停止flag\n",
    "    step = 0  # 第几次更新\n",
    "    index = 0 # 正在处理的数据索引\n",
    "    correctNum = 0 # 连续正确的个数\n",
    "    while (not isFinished):\n",
    "        x = np.insert(data[index, 0:4], 0, 1)\n",
    "        y = data[index,4]\n",
    "        if (sign(np.dot(w, x)) != y):\n",
    "            w = w + step_size * y * x\n",
    "            step+=1\n",
    "            correctNum = 0\n",
    "        else:\n",
    "            correctNum+=1\n",
    "        if (index == 399):\n",
    "            index = 0\n",
    "        else:\n",
    "            index+=1\n",
    "        if (correctNum == 400):\n",
    "            isFinished = 1\n",
    "    return w, step\n",
    "    "
   ]
  },
  {
   "cell_type": "code",
   "execution_count": 152,
   "metadata": {},
   "outputs": [
    {
     "data": {
      "text/plain": [
       "45"
      ]
     },
     "execution_count": 152,
     "metadata": {},
     "output_type": "execute_result"
    }
   ],
   "source": [
    "[w, step] = pla(raw_data)\n",
    "step"
   ]
  },
  {
   "cell_type": "code",
   "execution_count": 153,
   "metadata": {},
   "outputs": [],
   "source": [
    "def pla_shuffle(data, step_size = 1):\n",
    "    np.random.shuffle(data)\n",
    "    w = np.zeros((5), dtype = float)\n",
    "    isFinished = False # 停止flag\n",
    "    step = 0  # 第几次更新\n",
    "    index = 0 # 正在处理的数据索引\n",
    "    correctNum = 0 # 连续正确的个数\n",
    "    while (not isFinished):\n",
    "        x = np.insert(data[index, 0:4], 0, 1)\n",
    "        y = data[index,4]\n",
    "        if (sign(np.dot(w, x)) != y):\n",
    "            w = w + step_size * y * x\n",
    "            step+=1\n",
    "            correctNum = 0\n",
    "        else:\n",
    "            correctNum += 1\n",
    "        if (index == 399):\n",
    "            index = 0\n",
    "        else:\n",
    "            index+=1\n",
    "        if (correctNum == 400):\n",
    "            isFinished = True\n",
    "    return w, step"
   ]
  },
  {
   "cell_type": "code",
   "execution_count": 159,
   "metadata": {},
   "outputs": [],
   "source": [
    "total = 0\n",
    "for i in range(0, 2000):\n",
    "    [w, step] = pla_shuffle(raw_data.copy())\n",
    "    total += step\n",
    "    average = total / 2000"
   ]
  },
  {
   "cell_type": "code",
   "execution_count": 160,
   "metadata": {},
   "outputs": [
    {
     "data": {
      "text/plain": [
       "40.155"
      ]
     },
     "execution_count": 160,
     "metadata": {},
     "output_type": "execute_result"
    }
   ],
   "source": [
    "average"
   ]
  },
  {
   "cell_type": "code",
   "execution_count": 157,
   "metadata": {},
   "outputs": [],
   "source": [
    "total = 0\n",
    "for i in range(0, 2000):\n",
    "    [w, step] = pla_shuffle(raw_data.copy(), 0.5)\n",
    "    total += step\n",
    "    average = total / 2000"
   ]
  },
  {
   "cell_type": "code",
   "execution_count": 158,
   "metadata": {},
   "outputs": [
    {
     "data": {
      "text/plain": [
       "39.88"
      ]
     },
     "execution_count": 158,
     "metadata": {},
     "output_type": "execute_result"
    }
   ],
   "source": [
    "average"
   ]
  }
 ],
 "metadata": {
  "kernelspec": {
   "display_name": "Python 3",
   "language": "python",
   "name": "python3"
  },
  "language_info": {
   "codemirror_mode": {
    "name": "ipython",
    "version": 3
   },
   "file_extension": ".py",
   "mimetype": "text/x-python",
   "name": "python",
   "nbconvert_exporter": "python",
   "pygments_lexer": "ipython3",
   "version": "3.6.8"
  }
 },
 "nbformat": 4,
 "nbformat_minor": 4
}
